{
  "cells": [
    {
      "cell_type": "markdown",
      "metadata": {
        "id": "view-in-github",
        "colab_type": "text"
      },
      "source": [
        "<a href=\"https://colab.research.google.com/github/ByungjunKim/munzip/blob/main/%5BColab%5D%ED%95%9C%EA%B5%AD%EA%B3%A0%EC%A0%84%EC%A2%85%ED%95%A9DB_XML_v2.ipynb\" target=\"_parent\"><img src=\"https://colab.research.google.com/assets/colab-badge.svg\" alt=\"Open In Colab\"/></a>"
      ]
    },
    {
      "cell_type": "markdown",
      "metadata": {
        "id": "g6pm817x5Opr"
      },
      "source": [
        "# 한국고전종합DB XML Parsing\n",
        "한국문집총간 XML : https://www.data.go.kr/data/3074298/fileData.do  \n",
        "고전원문 XML : https://www.data.go.kr/data/15022432/fileData.do\n"
      ]
    },
    {
      "cell_type": "code",
      "source": [
        "# 필요 패키지 설치\n",
        "!pip install -U mpire"
      ],
      "metadata": {
        "id": "sGtYXsZo4ROy"
      },
      "execution_count": null,
      "outputs": []
    },
    {
      "cell_type": "code",
      "execution_count": null,
      "metadata": {
        "id": "KCKT1UV45a1Z"
      },
      "outputs": [],
      "source": [
        "import pandas as pd\n",
        "import numpy as np\n",
        "import lxml\n",
        "# import xml.etree.ElementTree as ET\n",
        "import lxml.etree as et\n",
        "from tqdm import tqdm\n",
        "import numpy as np\n",
        "import re\n",
        "from natsort import natsorted\n",
        "import glob\n",
        "import multiprocessing\n",
        "from mpire import WorkerPool"
      ]
    },
    {
      "cell_type": "markdown",
      "source": [
        "### 문집총간 파일 github에서 가져오기(clone)"
      ],
      "metadata": {
        "id": "vDDB3roC406A"
      }
    },
    {
      "cell_type": "code",
      "source": [
        "# munzip 폴더 확인\n",
        "!git clone https://github.com/ByungjunKim/munzip"
      ],
      "metadata": {
        "id": "yXL-gd4M43YH"
      },
      "execution_count": null,
      "outputs": []
    },
    {
      "cell_type": "markdown",
      "metadata": {
        "id": "qhBYfmdj4OsI"
      },
      "source": [
        "### 파일 목록 정리"
      ]
    },
    {
      "cell_type": "code",
      "execution_count": null,
      "metadata": {
        "id": "qRuNYvdJ4OsI"
      },
      "outputs": [],
      "source": [
        "# 샘플로 계원필경집과 고운집만 다룸\n",
        "file_list = natsorted(glob.glob('./munzip/한국문집총간/*/*.xml'))\n",
        "file_list"
      ]
    },
    {
      "cell_type": "code",
      "execution_count": null,
      "metadata": {
        "id": "3nnhNHY-4OsJ"
      },
      "outputs": [],
      "source": [
        "print(len(file_list))\n",
        "print(len(file_list)-2) # 텍스트 존재 XML 파일 수"
      ]
    },
    {
      "cell_type": "code",
      "execution_count": null,
      "metadata": {
        "id": "ziLJ1pdj4OsJ"
      },
      "outputs": [],
      "source": [
        "# 본문 xml 리스트\n",
        "file_list_text = [f for f in file_list if re.match('ITKC\\_MO\\_.+\\_\\d+\\.xml',f.split('/')[-1])]\n",
        "len(file_list_text)"
      ]
    },
    {
      "cell_type": "code",
      "execution_count": null,
      "metadata": {
        "id": "SgTja7RD4OsK"
      },
      "outputs": [],
      "source": [
        "# 저서 메타 정보 xml 리스트\n",
        "file_list_meta = natsorted(list(set(file_list) - set(file_list_text)))\n",
        "len(file_list_meta)"
      ]
    },
    {
      "cell_type": "markdown",
      "metadata": {
        "id": "v_BDqYTD4OsK"
      },
      "source": [
        "### 파싱 테스트 (메타정보)"
      ]
    },
    {
      "cell_type": "code",
      "source": [
        "file_list_meta[0]"
      ],
      "metadata": {
        "id": "z81YLRRR_9Gy"
      },
      "execution_count": null,
      "outputs": []
    },
    {
      "cell_type": "code",
      "execution_count": null,
      "metadata": {
        "id": "MO8wyPDp4OsK"
      },
      "outputs": [],
      "source": [
        "tree = et.parse(file_list_meta[0])"
      ]
    },
    {
      "cell_type": "code",
      "execution_count": null,
      "metadata": {
        "id": "vRvAEhEi4OsK"
      },
      "outputs": [],
      "source": [
        "# id\n",
        "tree.find('.//레벨1').attrib['id']"
      ]
    },
    {
      "cell_type": "code",
      "execution_count": null,
      "metadata": {
        "id": "Mbt-owKn4OsL"
      },
      "outputs": [],
      "source": [
        "# 서명 (한자/한글)\n",
        "[t.text for t in tree.find('.//레벨1//제목정보').findall('제목') if t.attrib['type'] in ['한자서명','한글서명']]"
      ]
    },
    {
      "cell_type": "code",
      "execution_count": null,
      "metadata": {
        "id": "RO4gsLKQ4OsL"
      },
      "outputs": [],
      "source": [
        "# 저자\n",
        "print(tree.find('.//레벨1//저자//한글성명').text)\n",
        "print(tree.find('.//레벨1//저자//한자성명').text)\n",
        "print(tree.find('.//레벨1//저자//생년').text)\n",
        "print(tree.find('.//레벨1//저자//생년').attrib['서기년'])\n",
        "print(tree.find('.//레벨1//저자//몰년').attrib['서기년'])"
      ]
    },
    {
      "cell_type": "code",
      "execution_count": null,
      "metadata": {
        "id": "REVte0UW4OsL"
      },
      "outputs": [],
      "source": [
        "tree.find('.//레벨1//저자//생년').text"
      ]
    },
    {
      "cell_type": "code",
      "execution_count": null,
      "metadata": {
        "id": "Q25mi6CZ4OsM"
      },
      "outputs": [],
      "source": [
        "# 간행년\n",
        "tree.find('.//레벨1//원문간행년').text"
      ]
    },
    {
      "cell_type": "markdown",
      "metadata": {
        "id": "zH47ZkGn4OsM"
      },
      "source": [
        "### 실전 XML 파싱 (메타정보)"
      ]
    },
    {
      "cell_type": "code",
      "execution_count": null,
      "metadata": {
        "id": "5yucTr594OsM"
      },
      "outputs": [],
      "source": [
        "def get_Meta(xml):\n",
        "    data = {}\n",
        "    tree = et.parse(xml)\n",
        "    data['id'] = tree.find('.//레벨1').attrib['id']\n",
        "    titles = [t.text for t in tree.find('.//레벨1//제목정보').findall('제목') if t.attrib['type'] in ['한자서명','한글서명']]\n",
        "    data['한자서명'] = titles[0]\n",
        "    data['한글서명'] = titles[1]\n",
        "    data['한글성명'] = tree.find('.//레벨1//저자//한글성명').text\n",
        "    data['한자성명'] = tree.find('.//레벨1//저자//한자성명').text\n",
        "    try:\n",
        "        data['생년'] = tree.find('.//레벨1//저자//생년').text\n",
        "    except:\n",
        "        data['생년'] = None\n",
        "    data['생년_서기'] = tree.find('.//레벨1//저자//생년').attrib['서기년']\n",
        "    try:\n",
        "        data['몰년'] = tree.find('.//레벨1//저자//몰년').text\n",
        "    except:\n",
        "        data['몰년'] = None\n",
        "    data['몰년_서기'] = tree.find('.//레벨1//저자//몰년').attrib['서기년']\n",
        "    data['원문간행년'] = tree.find('.//레벨1//원문간행년').text\n",
        "\n",
        "    return data"
      ]
    },
    {
      "cell_type": "code",
      "execution_count": null,
      "metadata": {
        "id": "aoWOeiQK4OsM"
      },
      "outputs": [],
      "source": [
        "get_Meta(file_list_meta[0])"
      ]
    },
    {
      "cell_type": "code",
      "execution_count": null,
      "metadata": {
        "id": "jw_puUx54OsM"
      },
      "outputs": [],
      "source": [
        "# multiprocessing으로 CPU 여러대 활용 (주의 : windows는 안될 수 있음)\n",
        "with WorkerPool(n_jobs=multiprocessing.cpu_count()) as pool:\n",
        "    meta_list = pool.map(get_Meta, file_list_meta, progress_bar=True)"
      ]
    },
    {
      "cell_type": "code",
      "execution_count": null,
      "metadata": {
        "id": "9KVqEB5Y4OsM"
      },
      "outputs": [],
      "source": [
        "meta = pd.DataFrame(meta_list)\n",
        "meta"
      ]
    },
    {
      "cell_type": "markdown",
      "metadata": {
        "id": "Mg42ZeR14OsM"
      },
      "source": [
        "### 파싱 테스트 (본문)"
      ]
    },
    {
      "cell_type": "code",
      "execution_count": null,
      "metadata": {
        "id": "kgC_iCUg5vvX"
      },
      "outputs": [],
      "source": [
        "tree = et.parse(file_list_text[0])"
      ]
    },
    {
      "cell_type": "code",
      "execution_count": null,
      "metadata": {
        "id": "0kqIPK4-4OsM"
      },
      "outputs": [],
      "source": [
        "# 레벨 1 id\n",
        "tree.find('.//레벨1').attrib['id']"
      ]
    },
    {
      "cell_type": "code",
      "execution_count": null,
      "metadata": {
        "id": "f0Sq4q5Ng7oN"
      },
      "outputs": [],
      "source": [
        "tree.find('.//레벨4').attrib['DCI']"
      ]
    },
    {
      "cell_type": "code",
      "execution_count": null,
      "metadata": {
        "id": "AgXrNBqdhGgF"
      },
      "outputs": [],
      "source": [
        "# 레벨 4 id\n",
        "tree.find('.//레벨4').attrib['id']"
      ]
    },
    {
      "cell_type": "code",
      "execution_count": null,
      "metadata": {
        "id": "cdIlKvwq4OsN"
      },
      "outputs": [],
      "source": [
        "# 연계항목(이미지, 번역, 교감표점) id\n",
        "tree.findall('.//레벨4//연계항목')"
      ]
    },
    {
      "cell_type": "code",
      "execution_count": null,
      "metadata": {
        "id": "6a_hW_qj4OsN"
      },
      "outputs": [],
      "source": [
        "tree.findall('.//레벨4//연계항목')[0].attrib['type']"
      ]
    },
    {
      "cell_type": "code",
      "execution_count": null,
      "metadata": {
        "id": "lXhhe1DH4OsN"
      },
      "outputs": [],
      "source": [
        "tree.findall('.//레벨4//연계항목')[1].attrib['type']"
      ]
    },
    {
      "cell_type": "code",
      "execution_count": null,
      "metadata": {
        "id": "uAe3DSlL4OsN"
      },
      "outputs": [],
      "source": [
        "# 단락별 저자\n",
        "print(tree.find('.//레벨4//저자//한글성명').text)\n",
        "print(tree.find('.//레벨4//저자//한자성명').text)"
      ]
    },
    {
      "cell_type": "code",
      "execution_count": null,
      "metadata": {
        "id": "E_tasV-84OsN"
      },
      "outputs": [],
      "source": [
        "tree.findall('.//레벨4//연계항목')[1].attrib['연계시작']"
      ]
    },
    {
      "cell_type": "code",
      "execution_count": null,
      "metadata": {
        "id": "ZQl7Q0c07LsD"
      },
      "outputs": [],
      "source": [
        "''.join(tree.find('.//레벨4//제목정보//제목').itertext())"
      ]
    },
    {
      "cell_type": "code",
      "execution_count": null,
      "metadata": {
        "id": "HElNA15D4OsN"
      },
      "outputs": [],
      "source": [
        "# 권차 제목\n",
        "''.join(tree.find('.//레벨2//제목정보//제목').itertext())"
      ]
    },
    {
      "cell_type": "code",
      "execution_count": null,
      "metadata": {
        "id": "ZUljrwLo4OsN"
      },
      "outputs": [],
      "source": [
        "[''.join(t.itertext()) for t in tree.findall('.//레벨4//제목정보//제목')]"
      ]
    },
    {
      "cell_type": "code",
      "execution_count": null,
      "metadata": {
        "id": "vKD0tLT44OsN"
      },
      "outputs": [],
      "source": [
        "tree.find('.//레벨4//분류항목').findall('.//분류내용')"
      ]
    },
    {
      "cell_type": "code",
      "execution_count": null,
      "metadata": {
        "id": "xu0dZq2c4OsO"
      },
      "outputs": [],
      "source": [
        "classification = [t.findall('.//분류내용') for t in tree.findall('.//레벨4//분류항목') if t.attrib['type']=='문체분류']\n",
        "classification"
      ]
    },
    {
      "cell_type": "code",
      "execution_count": null,
      "metadata": {
        "id": "H3KLmDsY4OsO"
      },
      "outputs": [],
      "source": [
        "print([c.text for l in classification for c in l if c.attrib['type']=='대분류'])\n",
        "print([c.text for l in classification for c in l if c.attrib['type']=='중분류'])"
      ]
    },
    {
      "cell_type": "code",
      "execution_count": null,
      "metadata": {
        "id": "KW8jTKPL8UNI"
      },
      "outputs": [],
      "source": [
        "tree.findall('.//레벨4//내용')"
      ]
    },
    {
      "cell_type": "code",
      "execution_count": null,
      "metadata": {
        "id": "We5TYNzP7aRm"
      },
      "outputs": [],
      "source": [
        "tree.findall('.//레벨4//내용')[0].find('단락').text"
      ]
    },
    {
      "cell_type": "code",
      "execution_count": null,
      "metadata": {
        "id": "fyrQnSZjkKLS"
      },
      "outputs": [],
      "source": [
        "tree.findall('.//레벨4//내용')[0].findtext('단락')"
      ]
    },
    {
      "cell_type": "code",
      "execution_count": null,
      "metadata": {
        "id": "7jMsvB_dkZyw"
      },
      "outputs": [],
      "source": [
        "tree.findall('.//레벨4//내용')[0].attrib"
      ]
    },
    {
      "cell_type": "code",
      "execution_count": null,
      "metadata": {
        "id": "zlVV1jXT4OsP"
      },
      "outputs": [],
      "source": [
        "''.join(tree.findall('.//레벨4//내용')[0].find('단락').itertext())"
      ]
    },
    {
      "cell_type": "code",
      "execution_count": null,
      "metadata": {
        "id": "azrhnwNG4OsP"
      },
      "outputs": [],
      "source": [
        "# 개행(엔터,\\n) 제거\n",
        "re.sub('\\n','',''.join(tree.findall('.//레벨4//내용')[0].find('단락').itertext()))"
      ]
    },
    {
      "cell_type": "markdown",
      "metadata": {
        "id": "jNpX0uWK4OsP"
      },
      "source": [
        "### 실전 XML 파싱 (본문)"
      ]
    },
    {
      "cell_type": "code",
      "execution_count": null,
      "metadata": {
        "id": "1NoKb8fH4OsP"
      },
      "outputs": [],
      "source": [
        "def get_Text(xml):\n",
        "    tree = et.parse(xml)\n",
        "    # tree = ET.parse(xml)\n",
        "    id = tree.find('.//레벨1').attrib['id']\n",
        "\n",
        "    # 권차제목\n",
        "    vol_title = ''.join(tree.find('.//레벨2//제목정보//제목').itertext())\n",
        "\n",
        "    # 레벨 3 or 4 선택\n",
        "    if tree.findall('.//레벨4')!=[]:\n",
        "        # 기본정보\n",
        "        lv4_list = tree.findall('.//레벨4')\n",
        "\n",
        "        # 내용 부분\n",
        "        lv4_content_list = tree.findall('.//레벨4//본문정보')\n",
        "\n",
        "        # 연계항목\n",
        "        # lv4_asso_list = tree.findall('.//레벨4//연계항목')\n",
        "\n",
        "    else: #레벨3에 위치한 경우\n",
        "        # print('lv3')\n",
        "        # 기본정보\n",
        "        lv4_list = tree.findall('.//레벨3')\n",
        "\n",
        "        # 내용 부분\n",
        "        lv4_content_list = tree.findall('.//레벨3//본문정보')\n",
        "\n",
        "        # 연계항목\n",
        "        # lv4_asso_list = tree.findall('.//레벨3//연계항목')\n",
        "\n",
        "    # 자료ID\n",
        "    tid = [lv4.attrib['id'] for lv4 in lv4_list]\n",
        "\n",
        "    # DCI_s\n",
        "    dci = [lv4.attrib['DCI'] for lv4 in lv4_list]\n",
        "\n",
        "    # 저자\n",
        "    author_ko = [lv4.find('.//저자//한글성명').text if lv4.find('.//저자//한글성명')!=None else None for lv4 in lv4_list]\n",
        "    author_han = [lv4.find('.//저자//한자성명').text if lv4.find('.//저자//한자성명')!=None else None for lv4 in lv4_list]\n",
        "\n",
        "    # 제목\n",
        "    para_title = [''.join(lv4.find('.//제목정보//제목').itertext()) for lv4 in lv4_list]\n",
        "\n",
        "    # 문체분류\n",
        "    # classification = [t.findall('.//분류내용') for lv4 in lv4_list for t in lv4.find('.//분류항목') if t.attrib['type']=='문체분류']\n",
        "    # main_class = [c.text for l in classification for c in l if c.attrib['type']=='대분류']\n",
        "    # middle_class = [c.text for l in classification for c in l if c.attrib['type']=='중분류']\n",
        "    try:\n",
        "        main_class = [c.text for lv4 in lv4_list for c in lv4.find('.//분류항목') if c.attrib['type']=='대분류']\n",
        "        middle_class = [c.text for lv4 in lv4_list for c in lv4.find('.//분류항목') if c.attrib['type']=='중분류']\n",
        "    except TypeError:\n",
        "        print(xml)\n",
        "        main_class = []\n",
        "        middle_class = []\n",
        "\n",
        "    # 내용\n",
        "    content = [re.sub('\\n','',''.join(lv4_content.find('내용').itertext()).strip()) for lv4_content in lv4_content_list]\n",
        "\n",
        "    # 내용 (원주 삭제)\n",
        "    for lv4 in lv4_content_list:\n",
        "        for comm in lv4.findall('.//원주'):\n",
        "            comm.getparent().remove(comm)\n",
        "\n",
        "    content_wo = [re.sub('\\n','',''.join(lv4_content.find('내용').itertext()).strip()) for lv4_content in lv4_content_list]\n",
        "\n",
        "    res = {'id':id, '권차제목': vol_title, 'tid':tid, 'dci':dci, '단락저자_한글성명':author_ko, '단락저자_한자성명':author_han,\\\n",
        "    '문체_대분류':main_class, '문체_중분류':middle_class,'단락제목': para_title ,'단락내용':content, '단락내용_원주삭제':content_wo}\n",
        "\n",
        "    return res"
      ]
    },
    {
      "cell_type": "code",
      "execution_count": null,
      "metadata": {
        "id": "S9c-qtL-4OsP"
      },
      "outputs": [],
      "source": [
        "with WorkerPool(n_jobs=multiprocessing.cpu_count()) as pool:\n",
        "    text_list = pool.map(get_Text, file_list_text, progress_bar=True)"
      ]
    },
    {
      "cell_type": "code",
      "execution_count": null,
      "metadata": {
        "id": "IxnhT5Yl4OsP"
      },
      "outputs": [],
      "source": [
        "df = pd.DataFrame(text_list)\n",
        "df"
      ]
    },
    {
      "cell_type": "code",
      "execution_count": null,
      "metadata": {
        "id": "-0nRW9i24OsP"
      },
      "outputs": [],
      "source": [
        "# id가 비어있는 행 제외\n",
        "print(df[df['id'].map(lambda x:len(x)==0)])\n",
        "# df = df[df['id'].map(lambda x:len(x)!=0)]\n",
        "# main class 비어있는행 제외\n",
        "print(df[df['문체_대분류'].map(lambda x:len(x)==0)])\n",
        "df = df[df['문체_대분류'].map(lambda x:len(x)!=0)].reset_index(drop=True)"
      ]
    },
    {
      "cell_type": "code",
      "execution_count": null,
      "metadata": {
        "id": "KkFQ_lQn4OsQ"
      },
      "outputs": [],
      "source": [
        "df[df['tid'].str.len()!=df['문체_대분류'].str.len()]"
      ]
    },
    {
      "cell_type": "code",
      "execution_count": null,
      "metadata": {
        "id": "5sjNmrdi4OsQ"
      },
      "outputs": [],
      "source": [
        "#  리스트(여러 단락)로 묶인걸 풀면서(하나의 단락씩) 행 확장\n",
        "df_explode = df.explode(df.columns[2:].tolist(),ignore_index=True)\n",
        "df_explode"
      ]
    },
    {
      "cell_type": "code",
      "execution_count": null,
      "metadata": {
        "id": "eHhXqaJB4OsQ"
      },
      "outputs": [],
      "source": [
        "# dci 중복행 확인\n",
        "df_explode[df_explode.duplicated(subset=['dci'],keep=False)]"
      ]
    },
    {
      "cell_type": "code",
      "execution_count": null,
      "metadata": {
        "id": "XDL8PBlJ4OsQ"
      },
      "outputs": [],
      "source": [
        "# dci 중복행 삭제\n",
        "df_explode = df_explode.drop_duplicates(subset=['dci'],keep='first').reset_index(drop=True)"
      ]
    },
    {
      "cell_type": "code",
      "execution_count": null,
      "metadata": {
        "id": "RuUamlCf4OsQ"
      },
      "outputs": [],
      "source": [
        "# 메타정보 테이블과 통합\n",
        "df_explode = pd.merge(meta,df_explode,how='inner')"
      ]
    },
    {
      "cell_type": "code",
      "execution_count": null,
      "metadata": {
        "id": "gQ7DvoMA4OsQ"
      },
      "outputs": [],
      "source": [
        "df_explode"
      ]
    },
    {
      "cell_type": "code",
      "execution_count": null,
      "metadata": {
        "id": "ao5ESXVj4OsQ"
      },
      "outputs": [],
      "source": [
        "# csv 저장\n",
        "df_explode.to_csv('230825_한국문집총간.csv', index=None)\n",
        "# excel 저장\n",
        "df_explode.to_excel('230825_한국문집총간.xlsx', index=None)"
      ]
    }
  ],
  "metadata": {
    "colab": {
      "provenance": [],
      "include_colab_link": true
    },
    "kernelspec": {
      "display_name": "Python 3",
      "name": "python3"
    },
    "language_info": {
      "codemirror_mode": {
        "name": "ipython",
        "version": 3
      },
      "file_extension": ".py",
      "mimetype": "text/x-python",
      "name": "python",
      "nbconvert_exporter": "python",
      "pygments_lexer": "ipython3",
      "version": "3.8.12"
    }
  },
  "nbformat": 4,
  "nbformat_minor": 0
}