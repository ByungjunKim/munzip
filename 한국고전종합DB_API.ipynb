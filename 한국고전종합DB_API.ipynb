{
  "nbformat": 4,
  "nbformat_minor": 0,
  "metadata": {
    "colab": {
      "provenance": [],
      "include_colab_link": true
    },
    "interpreter": {
      "hash": "58d1e930594181ec3669602426326bbb03acfc02a8352db7bdf2b42a9eb5dc94"
    },
    "kernelspec": {
      "display_name": "Python 3.8.12 64-bit ('nlp': conda)",
      "name": "python3"
    },
    "language_info": {
      "codemirror_mode": {
        "name": "ipython",
        "version": 3
      },
      "file_extension": ".py",
      "mimetype": "text/x-python",
      "name": "python",
      "nbconvert_exporter": "python",
      "pygments_lexer": "ipython3",
      "version": "3.8.12"
    }
  },
  "cells": [
    {
      "cell_type": "markdown",
      "metadata": {
        "id": "view-in-github",
        "colab_type": "text"
      },
      "source": [
        "<a href=\"https://colab.research.google.com/github/ByungjunKim/munzip/blob/main/02%ED%95%9C%EA%B5%AD%EA%B3%A0%EC%A0%84%EC%A2%85%ED%95%A9DB_API.ipynb\" target=\"_parent\"><img src=\"https://colab.research.google.com/assets/colab-badge.svg\" alt=\"Open In Colab\"/></a>"
      ]
    },
    {
      "cell_type": "markdown",
      "metadata": {
        "id": "Jw-OaPPjOzoL"
      },
      "source": [
        "# 한국고전종합DB API 활용하기\n",
        "API : https://db.itkc.or.kr/etc/openAPI?type=page1"
      ]
    },
    {
      "cell_type": "code",
      "metadata": {
        "id": "3AVja7qoQa2H"
      },
      "source": [
        "import requests\n",
        "import pandas as pd\n",
        "import lxml\n",
        "import xml.etree.ElementTree as ET\n",
        "from tqdm import tqdm\n",
        "import numpy as np\n",
        "import re"
      ],
      "execution_count": null,
      "outputs": []
    },
    {
      "cell_type": "markdown",
      "metadata": {
        "id": "CMVWKn4FPInY"
      },
      "source": [
        "### 고전원문에서 '본문검색'\n",
        "예시 : 한국문집총간(본문) & '我國'  \n",
        "https://db.itkc.or.kr/openapi/search?secId=MO_BD&keyword=%E6%88%91%E5%9C%8B&start=0&rows=100"
      ]
    },
    {
      "cell_type": "code",
      "metadata": {
        "id": "La8kt9y1Obbv"
      },
      "source": [
        "url = 'https://db.itkc.or.kr/openapi/search?secId=MO_BD&keyword=%E6%88%91%E5%9C%8B&start=0&rows=100'"
      ],
      "execution_count": null,
      "outputs": []
    },
    {
      "cell_type": "code",
      "metadata": {
        "id": "0KUGPJPZRGUO"
      },
      "source": [
        "req_str = requests.get(url).text"
      ],
      "execution_count": null,
      "outputs": []
    },
    {
      "cell_type": "code",
      "metadata": {
        "id": "hYWJDltbnkPV"
      },
      "source": [
        "# 검색자료 총검색건수(totalCount)\n",
        "totalCount = ET.fromstring(req_str).findall('.//header//field')[4].text\n",
        "totalCount = int(totalCount)\n",
        "totalCount"
      ],
      "execution_count": null,
      "outputs": []
    },
    {
      "cell_type": "code",
      "metadata": {
        "id": "4SVN08RYcX2U"
      },
      "source": [
        "xtree = ET.fromstring(req_str).findall('.//result//doc')"
      ],
      "execution_count": null,
      "outputs": []
    },
    {
      "cell_type": "code",
      "metadata": {
        "id": "Y0sFId9mZfhc"
      },
      "source": [
        "row_list = []\n",
        "for nodes in xtree:\n",
        "  field = {}\n",
        "  for row in nodes.findall('field'):\n",
        "    field[row.attrib['name']] = row.text\n",
        "  row_list.append(field)"
      ],
      "execution_count": null,
      "outputs": []
    },
    {
      "cell_type": "code",
      "metadata": {
        "id": "s7A-Hbfhh-sK"
      },
      "source": [
        "df = pd.DataFrame(row_list)\n",
        "df"
      ],
      "execution_count": null,
      "outputs": []
    },
    {
      "cell_type": "code",
      "metadata": {
        "id": "Js5nctW6kGf0"
      },
      "source": [
        "df.columns"
      ],
      "execution_count": null,
      "outputs": []
    },
    {
      "cell_type": "code",
      "metadata": {
        "id": "bbA-wxCxkzod"
      },
      "source": [
        "df['검색필드']"
      ],
      "execution_count": null,
      "outputs": []
    },
    {
      "cell_type": "markdown",
      "metadata": {
        "id": "t07vh05Pp2pA"
      },
      "source": [
        "### 원하는 조건으로 자동 수집하기\n",
        "조건확인 : https://db.itkc.or.kr/etc/openAPI?type=page2  \n",
        "상세검색 : https://db.itkc.or.kr/dir/detailSearchPop"
      ]
    },
    {
      "cell_type": "code",
      "metadata": {
        "id": "nnh55aH6p-FY"
      },
      "source": [
        "secld = 'MO_BD' # 한국문집총간 본문\n",
        "start = 0 # 검색자료 요청 시작위치\n",
        "rows = 1000 # 검색자료 요청건수\n",
        "keyword = '(我國 or 吾國)' # 검색어\n",
        "\n",
        "url = f'https://db.itkc.or.kr/openapi/search?secId={secld}&keyword={keyword}&start={start}&rows={rows}'"
      ],
      "execution_count": null,
      "outputs": []
    },
    {
      "cell_type": "code",
      "metadata": {
        "id": "bTqSuXOhrlp_"
      },
      "source": [
        "req_str = requests.get(url).text"
      ],
      "execution_count": null,
      "outputs": []
    },
    {
      "cell_type": "code",
      "metadata": {
        "id": "KDbJt-TErprg"
      },
      "source": [
        "# 검색자료 총검색건수(totalCount)\n",
        "totalCount = ET.fromstring(req_str).findall('.//header//field')[4].text\n",
        "totalCount = int(totalCount)\n",
        "totalCount"
      ],
      "execution_count": null,
      "outputs": []
    },
    {
      "cell_type": "code",
      "metadata": {
        "id": "T0AtN3Lns8Z9"
      },
      "source": [
        "# 1000개씩 수집을 반복할 횟수\n",
        "nums = totalCount // rows +1\n",
        "nums"
      ],
      "execution_count": null,
      "outputs": []
    },
    {
      "cell_type": "code",
      "metadata": {
        "id": "HSq8yqWBrrPy"
      },
      "source": [
        "row_list = []\n",
        "for num in tqdm(range(nums)): # 1000개 단위로 start 변수를 바꿔가며 수집\n",
        "  # url 설정\n",
        "  url = f'https://db.itkc.or.kr/openapi/search?secId={secld}&keyword={keyword}&start={start+num*1000}&rows={rows}'\n",
        "\n",
        "  # xml 요청\n",
        "  req_str = requests.get(url).text\n",
        "  xtree = ET.fromstring(req_str).findall('.//result//doc')\n",
        "\n",
        "  # xml parse\n",
        "  for nodes in xtree:\n",
        "    field = {}\n",
        "    for row in nodes.findall('field'):\n",
        "      field[row.attrib['name']] = row.text\n",
        "    row_list.append(field)"
      ],
      "execution_count": null,
      "outputs": []
    },
    {
      "cell_type": "code",
      "metadata": {
        "id": "fBKBFQcVuS9i"
      },
      "source": [
        "df = pd.DataFrame(row_list)\n",
        "df"
      ],
      "execution_count": null,
      "outputs": []
    },
    {
      "cell_type": "markdown",
      "metadata": {
        "id": "hcDLngx1wMhw"
      },
      "source": [
        "##### 검색어가 포함된 구(phrase)만 추출하기"
      ]
    },
    {
      "cell_type": "code",
      "metadata": {
        "id": "eVTt2rcwy0tL"
      },
      "source": [
        "df['검색필드'][0] # 검색어는 따로 표기됨 : <em class=\"hl1\">검색어</em>"
      ],
      "execution_count": null,
      "outputs": []
    },
    {
      "cell_type": "code",
      "metadata": {
        "id": "QtT6FsVIqMY9"
      },
      "source": [
        "# 고리표('。') 기준으로 리스트 만들기\n",
        "phrase = df['검색필드'][7447].split('。')\n",
        "phrase"
      ],
      "execution_count": null,
      "outputs": []
    },
    {
      "cell_type": "code",
      "metadata": {
        "id": "DBZytA6Jwde9"
      },
      "source": [
        "# 리스트에서 검색어가 들어간 요소(element)만 뽑아내기\n",
        "[e for e in phrase if '</em>' in e]"
      ],
      "execution_count": null,
      "outputs": []
    },
    {
      "cell_type": "code",
      "metadata": {
        "id": "3y9f5GmkyS08"
      },
      "source": [
        "# 위 과정을 한번에 시행\n",
        "df['sentence'] = df['검색필드'].map(lambda x:[e for e in x.split('。') if '</em>' in e])\n",
        "df['sentence']"
      ],
      "execution_count": null,
      "outputs": []
    },
    {
      "cell_type": "code",
      "metadata": {
        "id": "lgLwH9zyyvHL"
      },
      "source": [
        "df['sentence'][7449]"
      ],
      "execution_count": null,
      "outputs": []
    },
    {
      "cell_type": "code",
      "metadata": {
        "id": "wBhCchQC8ym_"
      },
      "source": [
        "# 불필요한 태그 삭제\n",
        "#<em class=\"hl1\">검색어</em> -> 검색어\n",
        "df['sentence'] = df['sentence'].map(lambda x:[re.sub('\\<em class\\=\\\"hl1\\\"\\>(.+)\\<\\/em\\>','\\g<1>',e) for e in x])\n",
        "df['sentence']"
      ],
      "execution_count": null,
      "outputs": []
    },
    {
      "cell_type": "code",
      "metadata": {
        "id": "WmotBSrzgPGO"
      },
      "source": [
        "# 엑셀로 저장 (파일이름 : '검색어_DB이름')\n",
        "df.to_excel(f'{keyword}_{secld}.xlsx',index=None)"
      ],
      "execution_count": null,
      "outputs": []
    },
    {
      "cell_type": "markdown",
      "metadata": {
        "id": "-DyY_7tP77wP"
      },
      "source": [
        "### 기술통계량"
      ]
    },
    {
      "cell_type": "code",
      "metadata": {
        "id": "KtpMzYxm-tUH"
      },
      "source": [
        "# 서명\n",
        "df['서명'].value_counts()"
      ],
      "execution_count": null,
      "outputs": []
    },
    {
      "cell_type": "code",
      "metadata": {
        "id": "qUaJB7eY-zAO"
      },
      "source": [
        "# 저자\n",
        "df['저자'].value_counts()"
      ],
      "execution_count": null,
      "outputs": []
    },
    {
      "cell_type": "code",
      "metadata": {
        "id": "tqpC5pmk79Zh"
      },
      "source": [
        "# 간행년\n",
        "df['간행년'].value_counts()"
      ],
      "execution_count": null,
      "outputs": []
    }
  ]
}
